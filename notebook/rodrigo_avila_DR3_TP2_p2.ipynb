{
 "cells": [
  {
   "cell_type": "markdown",
   "metadata": {},
   "source": [
    "# INFNET\n",
    "## Desenvolvimento de Data-Driven Apps com Python [24E4_3] - TP2\n",
    "### Aluno: Rodrigo Moreira Avila\n",
    "---\n",
    "\n",
    "Repositório GIT: https://github.com/r-moreira/infnet-data-driven-apps-tp2-p2\n",
    "\n",
    "#### Questões teóricas\n",
    "\n",
    "> Parte 2"
   ]
  }
 ],
 "metadata": {
  "language_info": {
   "name": "python"
  }
 },
 "nbformat": 4,
 "nbformat_minor": 2
}
